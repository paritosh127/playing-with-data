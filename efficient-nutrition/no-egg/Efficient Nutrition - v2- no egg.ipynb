{
 "cells": [
  {
   "cell_type": "markdown",
   "metadata": {},
   "source": [
    "<h1>Efficient Nutrition - no eggs</h1>\n",
    "<h3>Finding the cheapest set of foods to eat (from what I eat), excluding eggs!</h3>"
   ]
  },
  {
   "cell_type": "markdown",
   "metadata": {},
   "source": [
    "**Import required libraries**"
   ]
  },
  {
   "cell_type": "code",
   "execution_count": 1,
   "metadata": {},
   "outputs": [],
   "source": [
    "import requests\n",
    "import pandas as pd\n",
    "import numpy as np\n",
    "import matplotlib.pyplot as plt\n",
    "import seaborn as sns\n",
    "%matplotlib inline\n",
    "sns.set()"
   ]
  },
  {
   "cell_type": "markdown",
   "metadata": {},
   "source": [
    "**Define food and food groups I eat**  \n",
    "The groups are from the NDB database (https://www.ars.usda.gov/ARSUserFiles/80400525/Data/SR/SR28/asc/FD_GROUP.txt)  \n",
    "Groups are used to restrict branded foods from coming to the list and will be used below to understand the food profiles better"
   ]
  },
  {
   "cell_type": "code",
   "execution_count": 2,
   "metadata": {},
   "outputs": [],
   "source": [
    "food_list = [\"raw egg\", \"raw green pepper\", \"raw green peas\", \"raw carrot\", \"raw broccoli\", \"raw cauliflower\",\n",
    "             \"raw corn\", \"raw spinach\", \"raw tomato\", \"raw sweet onion\", \"cucumber\", \"milk\", \"chia seed\", \"almond\",\n",
    "             \"pumpkin seed\", \"sunflower seed\", \"peanut\", \"cashew\", \"walnut\", \"raw chickpeas\", \"raw mung\",\n",
    "             \"raw kidney beans\", \"whey protein\", \"cottage cheese\", \"banana\", \"blueberry\", \"raw green bean\",\n",
    "             \"raw brussel sprouts\", \"rice raw\", \"wheat flour\"]"
   ]
  },
  {
   "cell_type": "code",
   "execution_count": 3,
   "metadata": {},
   "outputs": [],
   "source": [
    "groups = ['Dairy and Egg Products', 'Fruits and Fruit Juices', 'Legumes and Legume Products', 'Nut and Seed Products',\n",
    "          'Vegetables and Vegetable Products', 'Beverages', 'Cereal Grains and Pasta']"
   ]
  },
  {
   "cell_type": "markdown",
   "metadata": {},
   "source": [
    "**Get list of foods with NDB no. from the NDB database and store them in a dataframe**  \n",
    "Individual items can be searched here: https://ndb.nal.usda.gov/ndb/search/list"
   ]
  },
  {
   "cell_type": "code",
   "execution_count": 4,
   "metadata": {},
   "outputs": [],
   "source": [
    "df = pd.DataFrame(columns=['name', 'group', 'ndbno'])"
   ]
  },
  {
   "cell_type": "code",
   "execution_count": 5,
   "metadata": {},
   "outputs": [],
   "source": [
    "for item in food_list:\n",
    "    food = \"%20\".join(item.split())\n",
    "    response = requests.get(\"https://api.nal.usda.gov/ndb/search/?format=json&q=\" + food +\n",
    "                            \"&ds=Standard%20Reference&sort=n&offset=0&api_key=lLJ41ZBhjPe5zMRq9CV7gqEnBBiftGDZzT0DlmX5\")\n",
    "    data = response.json()\n",
    "    data_col=[]\n",
    "    for i in data['list']['item']:\n",
    "        if i['group'] in groups:\n",
    "            data_col.append([i['name'], i['group'], i['ndbno']])\n",
    "    df2 = pd.DataFrame(data_col, columns=['name', 'group', 'ndbno'])\n",
    "    df = df.append(df2, ignore_index=True)"
   ]
  },
  {
   "cell_type": "code",
   "execution_count": 6,
   "metadata": {},
   "outputs": [],
   "source": [
    "df.drop_duplicates(inplace=True)"
   ]
  },
  {
   "cell_type": "code",
   "execution_count": 7,
   "metadata": {},
   "outputs": [
    {
     "data": {
      "text/html": [
       "<div>\n",
       "<style>\n",
       "    .dataframe thead tr:only-child th {\n",
       "        text-align: right;\n",
       "    }\n",
       "\n",
       "    .dataframe thead th {\n",
       "        text-align: left;\n",
       "    }\n",
       "\n",
       "    .dataframe tbody tr th {\n",
       "        vertical-align: top;\n",
       "    }\n",
       "</style>\n",
       "<table border=\"1\" class=\"dataframe\">\n",
       "  <thead>\n",
       "    <tr style=\"text-align: right;\">\n",
       "      <th></th>\n",
       "      <th>name</th>\n",
       "      <th>group</th>\n",
       "      <th>ndbno</th>\n",
       "    </tr>\n",
       "  </thead>\n",
       "  <tbody>\n",
       "    <tr>\n",
       "      <th>0</th>\n",
       "      <td>Egg, duck, whole, fresh, raw</td>\n",
       "      <td>Dairy and Egg Products</td>\n",
       "      <td>01138</td>\n",
       "    </tr>\n",
       "    <tr>\n",
       "      <th>1</th>\n",
       "      <td>Egg, goose, whole, fresh, raw</td>\n",
       "      <td>Dairy and Egg Products</td>\n",
       "      <td>01139</td>\n",
       "    </tr>\n",
       "    <tr>\n",
       "      <th>2</th>\n",
       "      <td>Egg, quail, whole, fresh, raw</td>\n",
       "      <td>Dairy and Egg Products</td>\n",
       "      <td>01140</td>\n",
       "    </tr>\n",
       "    <tr>\n",
       "      <th>3</th>\n",
       "      <td>Egg, turkey, whole, fresh, raw</td>\n",
       "      <td>Dairy and Egg Products</td>\n",
       "      <td>01141</td>\n",
       "    </tr>\n",
       "    <tr>\n",
       "      <th>4</th>\n",
       "      <td>Egg, white, raw, fresh</td>\n",
       "      <td>Dairy and Egg Products</td>\n",
       "      <td>01124</td>\n",
       "    </tr>\n",
       "  </tbody>\n",
       "</table>\n",
       "</div>"
      ],
      "text/plain": [
       "                             name                   group  ndbno\n",
       "0    Egg, duck, whole, fresh, raw  Dairy and Egg Products  01138\n",
       "1   Egg, goose, whole, fresh, raw  Dairy and Egg Products  01139\n",
       "2   Egg, quail, whole, fresh, raw  Dairy and Egg Products  01140\n",
       "3  Egg, turkey, whole, fresh, raw  Dairy and Egg Products  01141\n",
       "4          Egg, white, raw, fresh  Dairy and Egg Products  01124"
      ]
     },
     "execution_count": 7,
     "metadata": {},
     "output_type": "execute_result"
    }
   ],
   "source": [
    "df.head()"
   ]
  },
  {
   "cell_type": "markdown",
   "metadata": {},
   "source": [
    "**Export to file for reference if required**"
   ]
  },
  {
   "cell_type": "code",
   "execution_count": 8,
   "metadata": {},
   "outputs": [],
   "source": [
    "df.to_csv('food_ndbno.csv')"
   ]
  },
  {
   "cell_type": "markdown",
   "metadata": {},
   "source": [
    "**Let's remove some of the unwanted items from the downloaded list (majority will be removed later below)**"
   ]
  },
  {
   "cell_type": "code",
   "execution_count": 9,
   "metadata": {},
   "outputs": [],
   "source": [
    "exclude_list = ['cooked', 'frozen', 'boiled', 'prepared', 'canned', 'roasted', 'dry-roasted', 'oil-roasted', 'dry', 'chocolate']\n",
    "exclude_list_2 = [s + ',' for s in exclude_list]\n",
    "exclude_list += exclude_list_2"
   ]
  },
  {
   "cell_type": "code",
   "execution_count": 10,
   "metadata": {},
   "outputs": [
    {
     "data": {
      "text/plain": [
       "['cooked',\n",
       " 'frozen',\n",
       " 'boiled',\n",
       " 'prepared',\n",
       " 'canned',\n",
       " 'roasted',\n",
       " 'dry-roasted',\n",
       " 'oil-roasted',\n",
       " 'dry',\n",
       " 'chocolate',\n",
       " 'cooked,',\n",
       " 'frozen,',\n",
       " 'boiled,',\n",
       " 'prepared,',\n",
       " 'canned,',\n",
       " 'roasted,',\n",
       " 'dry-roasted,',\n",
       " 'oil-roasted,',\n",
       " 'dry,',\n",
       " 'chocolate,']"
      ]
     },
     "execution_count": 10,
     "metadata": {},
     "output_type": "execute_result"
    }
   ],
   "source": [
    "exclude_list"
   ]
  },
  {
   "cell_type": "code",
   "execution_count": 11,
   "metadata": {},
   "outputs": [],
   "source": [
    "for i in df.index:\n",
    "    s = df.loc[i, 'name'].split()\n",
    "    if any(word in s for word in ['raw', 'raw,']):\n",
    "        continue\n",
    "    elif any(word in s for word in exclude_list):\n",
    "        df.drop(i, inplace=True)"
   ]
  },
  {
   "cell_type": "code",
   "execution_count": 12,
   "metadata": {},
   "outputs": [
    {
     "name": "stdout",
     "output_type": "stream",
     "text": [
      "<class 'pandas.core.frame.DataFrame'>\n",
      "Int64Index: 264 entries, 0 to 510\n",
      "Data columns (total 3 columns):\n",
      "name     264 non-null object\n",
      "group    264 non-null object\n",
      "ndbno    264 non-null object\n",
      "dtypes: object(3)\n",
      "memory usage: 18.2+ KB\n"
     ]
    }
   ],
   "source": [
    "df.info()"
   ]
  },
  {
   "cell_type": "markdown",
   "metadata": {},
   "source": [
    "**Let's add columns for price and quantity (to be filled manually) and set them to nan for now (useful in filtering out items later)**  \n",
    "**Then let's write the dataframe to file for filling up prices**"
   ]
  },
  {
   "cell_type": "code",
   "execution_count": 13,
   "metadata": {},
   "outputs": [],
   "source": [
    "df['Price ($)'] = np.nan\n",
    "df['Quantity (g)'] = np.nan"
   ]
  },
  {
   "cell_type": "code",
   "execution_count": 14,
   "metadata": {},
   "outputs": [],
   "source": [
    "df.to_csv('food_ndbno_cleaned.csv')"
   ]
  },
  {
   "cell_type": "markdown",
   "metadata": {},
   "source": [
    "** Next step was manual **  \n",
    "I could not find a free food price API, so used data from my local store and Amazon to put in price and quantity data. Some items were back calculated (e.g. egg white based on whole egg) and some were approximate averages of prices   \n",
    "I saved the file as food_ndbno_cleaned_price.csv  \n",
    "Now let's load this file and work on it"
   ]
  },
  {
   "cell_type": "code",
   "execution_count": 15,
   "metadata": {},
   "outputs": [],
   "source": [
    "df_clean = pd.read_csv('food_ndbno_cleaned_price.csv')"
   ]
  },
  {
   "cell_type": "code",
   "execution_count": 16,
   "metadata": {},
   "outputs": [],
   "source": [
    "df_clean.drop('Unnamed: 0', axis=1, inplace=True)"
   ]
  },
  {
   "cell_type": "code",
   "execution_count": 17,
   "metadata": {},
   "outputs": [
    {
     "data": {
      "text/html": [
       "<div>\n",
       "<style>\n",
       "    .dataframe thead tr:only-child th {\n",
       "        text-align: right;\n",
       "    }\n",
       "\n",
       "    .dataframe thead th {\n",
       "        text-align: left;\n",
       "    }\n",
       "\n",
       "    .dataframe tbody tr th {\n",
       "        vertical-align: top;\n",
       "    }\n",
       "</style>\n",
       "<table border=\"1\" class=\"dataframe\">\n",
       "  <thead>\n",
       "    <tr style=\"text-align: right;\">\n",
       "      <th></th>\n",
       "      <th>name</th>\n",
       "      <th>group</th>\n",
       "      <th>ndbno</th>\n",
       "      <th>Price ($)</th>\n",
       "      <th>Quantity (g)</th>\n",
       "    </tr>\n",
       "  </thead>\n",
       "  <tbody>\n",
       "    <tr>\n",
       "      <th>0</th>\n",
       "      <td>Egg, duck, whole, fresh, raw</td>\n",
       "      <td>Dairy and Egg Products</td>\n",
       "      <td>1138</td>\n",
       "      <td>NaN</td>\n",
       "      <td>NaN</td>\n",
       "    </tr>\n",
       "    <tr>\n",
       "      <th>1</th>\n",
       "      <td>Egg, goose, whole, fresh, raw</td>\n",
       "      <td>Dairy and Egg Products</td>\n",
       "      <td>1139</td>\n",
       "      <td>NaN</td>\n",
       "      <td>NaN</td>\n",
       "    </tr>\n",
       "    <tr>\n",
       "      <th>2</th>\n",
       "      <td>Egg, quail, whole, fresh, raw</td>\n",
       "      <td>Dairy and Egg Products</td>\n",
       "      <td>1140</td>\n",
       "      <td>NaN</td>\n",
       "      <td>NaN</td>\n",
       "    </tr>\n",
       "    <tr>\n",
       "      <th>3</th>\n",
       "      <td>Egg, turkey, whole, fresh, raw</td>\n",
       "      <td>Dairy and Egg Products</td>\n",
       "      <td>1141</td>\n",
       "      <td>NaN</td>\n",
       "      <td>NaN</td>\n",
       "    </tr>\n",
       "    <tr>\n",
       "      <th>4</th>\n",
       "      <td>Egg, white, raw, fresh</td>\n",
       "      <td>Dairy and Egg Products</td>\n",
       "      <td>1124</td>\n",
       "      <td>1.39</td>\n",
       "      <td>480.0</td>\n",
       "    </tr>\n",
       "  </tbody>\n",
       "</table>\n",
       "</div>"
      ],
      "text/plain": [
       "                             name                   group  ndbno  Price ($)  \\\n",
       "0    Egg, duck, whole, fresh, raw  Dairy and Egg Products   1138        NaN   \n",
       "1   Egg, goose, whole, fresh, raw  Dairy and Egg Products   1139        NaN   \n",
       "2   Egg, quail, whole, fresh, raw  Dairy and Egg Products   1140        NaN   \n",
       "3  Egg, turkey, whole, fresh, raw  Dairy and Egg Products   1141        NaN   \n",
       "4          Egg, white, raw, fresh  Dairy and Egg Products   1124       1.39   \n",
       "\n",
       "   Quantity (g)  \n",
       "0           NaN  \n",
       "1           NaN  \n",
       "2           NaN  \n",
       "3           NaN  \n",
       "4         480.0  "
      ]
     },
     "execution_count": 17,
     "metadata": {},
     "output_type": "execute_result"
    }
   ],
   "source": [
    "df_clean.head()"
   ]
  },
  {
   "cell_type": "markdown",
   "metadata": {},
   "source": [
    "**Let's drop the rows where Price/Quantity is NaN and reset the index to get a clean dataframe for analysis**"
   ]
  },
  {
   "cell_type": "code",
   "execution_count": 26,
   "metadata": {},
   "outputs": [
    {
     "data": {
      "text/html": [
       "<div>\n",
       "<style>\n",
       "    .dataframe thead tr:only-child th {\n",
       "        text-align: right;\n",
       "    }\n",
       "\n",
       "    .dataframe thead th {\n",
       "        text-align: left;\n",
       "    }\n",
       "\n",
       "    .dataframe tbody tr th {\n",
       "        vertical-align: top;\n",
       "    }\n",
       "</style>\n",
       "<table border=\"1\" class=\"dataframe\">\n",
       "  <thead>\n",
       "    <tr style=\"text-align: right;\">\n",
       "      <th></th>\n",
       "      <th>name</th>\n",
       "      <th>group</th>\n",
       "      <th>ndbno</th>\n",
       "      <th>Price ($)</th>\n",
       "      <th>Quantity (g)</th>\n",
       "    </tr>\n",
       "  </thead>\n",
       "  <tbody>\n",
       "    <tr>\n",
       "      <th>0</th>\n",
       "      <td>Beans, snap, green, raw</td>\n",
       "      <td>Vegetables and Vegetable Products</td>\n",
       "      <td>11052</td>\n",
       "      <td>2.49</td>\n",
       "      <td>454.0</td>\n",
       "    </tr>\n",
       "    <tr>\n",
       "      <th>1</th>\n",
       "      <td>Peas, green, raw</td>\n",
       "      <td>Vegetables and Vegetable Products</td>\n",
       "      <td>11304</td>\n",
       "      <td>3.29</td>\n",
       "      <td>454.0</td>\n",
       "    </tr>\n",
       "    <tr>\n",
       "      <th>2</th>\n",
       "      <td>Peppers, sweet, green, raw</td>\n",
       "      <td>Vegetables and Vegetable Products</td>\n",
       "      <td>11333</td>\n",
       "      <td>0.99</td>\n",
       "      <td>169.8</td>\n",
       "    </tr>\n",
       "    <tr>\n",
       "      <th>3</th>\n",
       "      <td>Peppers, sweet, red, raw</td>\n",
       "      <td>Vegetables and Vegetable Products</td>\n",
       "      <td>11821</td>\n",
       "      <td>0.99</td>\n",
       "      <td>169.8</td>\n",
       "    </tr>\n",
       "    <tr>\n",
       "      <th>4</th>\n",
       "      <td>Peppers, sweet, yellow, raw</td>\n",
       "      <td>Vegetables and Vegetable Products</td>\n",
       "      <td>11951</td>\n",
       "      <td>0.99</td>\n",
       "      <td>169.8</td>\n",
       "    </tr>\n",
       "  </tbody>\n",
       "</table>\n",
       "</div>"
      ],
      "text/plain": [
       "                          name                              group  ndbno  \\\n",
       "0      Beans, snap, green, raw  Vegetables and Vegetable Products  11052   \n",
       "1             Peas, green, raw  Vegetables and Vegetable Products  11304   \n",
       "2   Peppers, sweet, green, raw  Vegetables and Vegetable Products  11333   \n",
       "3     Peppers, sweet, red, raw  Vegetables and Vegetable Products  11821   \n",
       "4  Peppers, sweet, yellow, raw  Vegetables and Vegetable Products  11951   \n",
       "\n",
       "   Price ($)  Quantity (g)  \n",
       "0       2.49         454.0  \n",
       "1       3.29         454.0  \n",
       "2       0.99         169.8  \n",
       "3       0.99         169.8  \n",
       "4       0.99         169.8  "
      ]
     },
     "execution_count": 26,
     "metadata": {},
     "output_type": "execute_result"
    }
   ],
   "source": [
    "df_clean.dropna(subset=['Price ($)'], inplace=True)\n",
    "# now let's drop egg\n",
    "df_clean.drop(df_clean[(df_clean.name == 'Egg, white, raw, fresh') | (df_clean.name == 'Egg, whole, raw, fresh')].index, inplace=True)\n",
    "df_clean.reset_index(inplace=True, drop=True)\n",
    "df_clean.head()"
   ]
  },
  {
   "cell_type": "markdown",
   "metadata": {},
   "source": [
    "**Now let's get the list of nutrients for these food items with units for populating**  \n",
    "Choosing one item (egg) where I saw that all nutrients were listed"
   ]
  },
  {
   "cell_type": "code",
   "execution_count": 27,
   "metadata": {},
   "outputs": [],
   "source": [
    "response = requests.get(\"https://api.nal.usda.gov/ndb/V2/reports?ndbno=01123&type=b&format=json&api_key=lLJ41ZBhjPe5zMRq9CV7gqEnBBiftGDZzT0DlmX5\")"
   ]
  },
  {
   "cell_type": "code",
   "execution_count": 28,
   "metadata": {},
   "outputs": [],
   "source": [
    "r = response.json()"
   ]
  },
  {
   "cell_type": "code",
   "execution_count": 29,
   "metadata": {},
   "outputs": [],
   "source": [
    "cols = ['name', 'group', 'ndbno', 'Price ($)', 'Quantity (g)']\n",
    "for item in r['foods'][0]['food']['nutrients']:\n",
    "    s = str(item['name']) + \" (\" + str(item['unit']) + \")\"\n",
    "    cols.append(s)"
   ]
  },
  {
   "cell_type": "markdown",
   "metadata": {},
   "source": [
    "**Now let's get the nutrient data from the NDB database**"
   ]
  },
  {
   "cell_type": "code",
   "execution_count": 30,
   "metadata": {},
   "outputs": [],
   "source": [
    "array_nut = []\n",
    "for ndbno in df_clean['ndbno']:\n",
    "    ndbno_clean = '0'*(5-len(str(ndbno)))+str(ndbno)  # standardize length of NDB no. sent in API call\n",
    "    response = requests.get(\"https://api.nal.usda.gov/ndb/V2/reports?ndbno=\"+ndbno_clean+\n",
    "                            \"&type=b&format=json&api_key=lLJ41ZBhjPe5zMRq9CV7gqEnBBiftGDZzT0DlmX5\")\n",
    "    data = response.json()\n",
    "    nut_data = [data['foods'][0]['food']['desc']['name'], data['foods'][0]['food']['desc']['ndbno']]\n",
    "    for item in data['foods'][0]['food']['nutrients']:\n",
    "        s = str(item['name']) + \" (\" + str(item['unit']) + \")\"\n",
    "        nut_data.append((s, item['value']))\n",
    "    array_nut.append(nut_data)"
   ]
  },
  {
   "cell_type": "code",
   "execution_count": 31,
   "metadata": {},
   "outputs": [],
   "source": [
    "df_nut = pd.DataFrame(columns=cols)"
   ]
  },
  {
   "cell_type": "code",
   "execution_count": 32,
   "metadata": {},
   "outputs": [],
   "source": [
    "for i in range(len(array_nut)):\n",
    "    df_nut.loc[i, 'name'] = array_nut[i][0]\n",
    "    df_nut.loc[i, 'ndbno'] = array_nut[i][1]\n",
    "    df_nut.loc[i, 'group'] = df_clean.loc[i, 'group']\n",
    "    df_nut.loc[i, 'Price ($)'] = df_clean.loc[i, 'Price ($)']\n",
    "    df_nut.loc[i, 'Quantity (g)'] = df_clean.loc[i, 'Quantity (g)']\n",
    "    for j in array_nut[i][2:]:\n",
    "        df_nut.loc[i, j[0]] = j[1]"
   ]
  },
  {
   "cell_type": "code",
   "execution_count": 33,
   "metadata": {},
   "outputs": [
    {
     "data": {
      "text/html": [
       "<div>\n",
       "<style>\n",
       "    .dataframe thead tr:only-child th {\n",
       "        text-align: right;\n",
       "    }\n",
       "\n",
       "    .dataframe thead th {\n",
       "        text-align: left;\n",
       "    }\n",
       "\n",
       "    .dataframe tbody tr th {\n",
       "        vertical-align: top;\n",
       "    }\n",
       "</style>\n",
       "<table border=\"1\" class=\"dataframe\">\n",
       "  <thead>\n",
       "    <tr style=\"text-align: right;\">\n",
       "      <th></th>\n",
       "      <th>name</th>\n",
       "      <th>group</th>\n",
       "      <th>ndbno</th>\n",
       "      <th>Price ($)</th>\n",
       "      <th>Quantity (g)</th>\n",
       "      <th>Water (g)</th>\n",
       "      <th>Energy (kcal)</th>\n",
       "      <th>Protein (g)</th>\n",
       "      <th>Total lipid (fat) (g)</th>\n",
       "      <th>Carbohydrate, by difference (g)</th>\n",
       "      <th>...</th>\n",
       "      <th>Vitamin E (alpha-tocopherol) (mg)</th>\n",
       "      <th>Vitamin D (D2 + D3) (µg)</th>\n",
       "      <th>Vitamin D (IU)</th>\n",
       "      <th>Vitamin K (phylloquinone) (µg)</th>\n",
       "      <th>Fatty acids, total saturated (g)</th>\n",
       "      <th>Fatty acids, total monounsaturated (g)</th>\n",
       "      <th>Fatty acids, total polyunsaturated (g)</th>\n",
       "      <th>Fatty acids, total trans (g)</th>\n",
       "      <th>Cholesterol (mg)</th>\n",
       "      <th>Caffeine (mg)</th>\n",
       "    </tr>\n",
       "  </thead>\n",
       "  <tbody>\n",
       "    <tr>\n",
       "      <th>0</th>\n",
       "      <td>Beans, snap, green, raw</td>\n",
       "      <td>Vegetables and Vegetable Products</td>\n",
       "      <td>11052</td>\n",
       "      <td>2.49</td>\n",
       "      <td>454</td>\n",
       "      <td>90.32</td>\n",
       "      <td>31</td>\n",
       "      <td>1.83</td>\n",
       "      <td>0.22</td>\n",
       "      <td>6.97</td>\n",
       "      <td>...</td>\n",
       "      <td>0.41</td>\n",
       "      <td>0.0</td>\n",
       "      <td>0</td>\n",
       "      <td>43.0</td>\n",
       "      <td>0.050</td>\n",
       "      <td>0.010</td>\n",
       "      <td>0.113</td>\n",
       "      <td>0.000</td>\n",
       "      <td>0</td>\n",
       "      <td>0</td>\n",
       "    </tr>\n",
       "    <tr>\n",
       "      <th>1</th>\n",
       "      <td>Peas, green, raw</td>\n",
       "      <td>Vegetables and Vegetable Products</td>\n",
       "      <td>11304</td>\n",
       "      <td>3.29</td>\n",
       "      <td>454</td>\n",
       "      <td>78.86</td>\n",
       "      <td>81</td>\n",
       "      <td>5.42</td>\n",
       "      <td>0.40</td>\n",
       "      <td>14.45</td>\n",
       "      <td>...</td>\n",
       "      <td>0.13</td>\n",
       "      <td>0.0</td>\n",
       "      <td>0</td>\n",
       "      <td>24.8</td>\n",
       "      <td>0.071</td>\n",
       "      <td>0.035</td>\n",
       "      <td>0.187</td>\n",
       "      <td>0.000</td>\n",
       "      <td>0</td>\n",
       "      <td>0</td>\n",
       "    </tr>\n",
       "    <tr>\n",
       "      <th>2</th>\n",
       "      <td>Peppers, sweet, green, raw</td>\n",
       "      <td>Vegetables and Vegetable Products</td>\n",
       "      <td>11333</td>\n",
       "      <td>0.99</td>\n",
       "      <td>169.8</td>\n",
       "      <td>93.89</td>\n",
       "      <td>20</td>\n",
       "      <td>0.86</td>\n",
       "      <td>0.17</td>\n",
       "      <td>4.64</td>\n",
       "      <td>...</td>\n",
       "      <td>0.37</td>\n",
       "      <td>0.0</td>\n",
       "      <td>0</td>\n",
       "      <td>7.4</td>\n",
       "      <td>0.058</td>\n",
       "      <td>0.008</td>\n",
       "      <td>0.062</td>\n",
       "      <td>0.000</td>\n",
       "      <td>0</td>\n",
       "      <td>0</td>\n",
       "    </tr>\n",
       "    <tr>\n",
       "      <th>3</th>\n",
       "      <td>Peppers, sweet, red, raw</td>\n",
       "      <td>Vegetables and Vegetable Products</td>\n",
       "      <td>11821</td>\n",
       "      <td>0.99</td>\n",
       "      <td>169.8</td>\n",
       "      <td>92.21</td>\n",
       "      <td>31</td>\n",
       "      <td>0.99</td>\n",
       "      <td>0.30</td>\n",
       "      <td>6.03</td>\n",
       "      <td>...</td>\n",
       "      <td>1.58</td>\n",
       "      <td>0.0</td>\n",
       "      <td>0</td>\n",
       "      <td>4.9</td>\n",
       "      <td>0.027</td>\n",
       "      <td>0.003</td>\n",
       "      <td>0.070</td>\n",
       "      <td>0.000</td>\n",
       "      <td>0</td>\n",
       "      <td>0</td>\n",
       "    </tr>\n",
       "    <tr>\n",
       "      <th>4</th>\n",
       "      <td>Peppers, sweet, yellow, raw</td>\n",
       "      <td>Vegetables and Vegetable Products</td>\n",
       "      <td>11951</td>\n",
       "      <td>0.99</td>\n",
       "      <td>169.8</td>\n",
       "      <td>92.02</td>\n",
       "      <td>27</td>\n",
       "      <td>1.00</td>\n",
       "      <td>0.21</td>\n",
       "      <td>6.32</td>\n",
       "      <td>...</td>\n",
       "      <td>NaN</td>\n",
       "      <td>0.0</td>\n",
       "      <td>0</td>\n",
       "      <td>NaN</td>\n",
       "      <td>0.031</td>\n",
       "      <td>NaN</td>\n",
       "      <td>NaN</td>\n",
       "      <td>0.000</td>\n",
       "      <td>0</td>\n",
       "      <td>NaN</td>\n",
       "    </tr>\n",
       "  </tbody>\n",
       "</table>\n",
       "<p>5 rows × 38 columns</p>\n",
       "</div>"
      ],
      "text/plain": [
       "                          name                              group  ndbno  \\\n",
       "0      Beans, snap, green, raw  Vegetables and Vegetable Products  11052   \n",
       "1             Peas, green, raw  Vegetables and Vegetable Products  11304   \n",
       "2   Peppers, sweet, green, raw  Vegetables and Vegetable Products  11333   \n",
       "3     Peppers, sweet, red, raw  Vegetables and Vegetable Products  11821   \n",
       "4  Peppers, sweet, yellow, raw  Vegetables and Vegetable Products  11951   \n",
       "\n",
       "  Price ($) Quantity (g) Water (g) Energy (kcal) Protein (g)  \\\n",
       "0      2.49          454     90.32            31        1.83   \n",
       "1      3.29          454     78.86            81        5.42   \n",
       "2      0.99        169.8     93.89            20        0.86   \n",
       "3      0.99        169.8     92.21            31        0.99   \n",
       "4      0.99        169.8     92.02            27        1.00   \n",
       "\n",
       "  Total lipid (fat) (g) Carbohydrate, by difference (g)      ...       \\\n",
       "0                  0.22                            6.97      ...        \n",
       "1                  0.40                           14.45      ...        \n",
       "2                  0.17                            4.64      ...        \n",
       "3                  0.30                            6.03      ...        \n",
       "4                  0.21                            6.32      ...        \n",
       "\n",
       "  Vitamin E (alpha-tocopherol) (mg) Vitamin D (D2 + D3) (µg) Vitamin D (IU)  \\\n",
       "0                              0.41                      0.0              0   \n",
       "1                              0.13                      0.0              0   \n",
       "2                              0.37                      0.0              0   \n",
       "3                              1.58                      0.0              0   \n",
       "4                               NaN                      0.0              0   \n",
       "\n",
       "  Vitamin K (phylloquinone) (µg) Fatty acids, total saturated (g)  \\\n",
       "0                           43.0                            0.050   \n",
       "1                           24.8                            0.071   \n",
       "2                            7.4                            0.058   \n",
       "3                            4.9                            0.027   \n",
       "4                            NaN                            0.031   \n",
       "\n",
       "  Fatty acids, total monounsaturated (g)  \\\n",
       "0                                  0.010   \n",
       "1                                  0.035   \n",
       "2                                  0.008   \n",
       "3                                  0.003   \n",
       "4                                    NaN   \n",
       "\n",
       "  Fatty acids, total polyunsaturated (g) Fatty acids, total trans (g)  \\\n",
       "0                                  0.113                        0.000   \n",
       "1                                  0.187                        0.000   \n",
       "2                                  0.062                        0.000   \n",
       "3                                  0.070                        0.000   \n",
       "4                                    NaN                        0.000   \n",
       "\n",
       "  Cholesterol (mg) Caffeine (mg)  \n",
       "0                0             0  \n",
       "1                0             0  \n",
       "2                0             0  \n",
       "3                0             0  \n",
       "4                0           NaN  \n",
       "\n",
       "[5 rows x 38 columns]"
      ]
     },
     "execution_count": 33,
     "metadata": {},
     "output_type": "execute_result"
    }
   ],
   "source": [
    "df_nut.head()"
   ]
  },
  {
   "cell_type": "markdown",
   "metadata": {},
   "source": [
    "**All the values downloaded are strings. Need to convert to float for analysis**"
   ]
  },
  {
   "cell_type": "code",
   "execution_count": 34,
   "metadata": {},
   "outputs": [],
   "source": [
    "for i in df_nut.index:\n",
    "    for c in df_nut.columns[4:]:\n",
    "        df_nut.loc[i,c] = float(df_nut.loc[i,c])"
   ]
  },
  {
   "cell_type": "code",
   "execution_count": 35,
   "metadata": {},
   "outputs": [
    {
     "data": {
      "text/html": [
       "<div>\n",
       "<style>\n",
       "    .dataframe thead tr:only-child th {\n",
       "        text-align: right;\n",
       "    }\n",
       "\n",
       "    .dataframe thead th {\n",
       "        text-align: left;\n",
       "    }\n",
       "\n",
       "    .dataframe tbody tr th {\n",
       "        vertical-align: top;\n",
       "    }\n",
       "</style>\n",
       "<table border=\"1\" class=\"dataframe\">\n",
       "  <thead>\n",
       "    <tr style=\"text-align: right;\">\n",
       "      <th></th>\n",
       "      <th>name</th>\n",
       "      <th>group</th>\n",
       "      <th>ndbno</th>\n",
       "      <th>Price ($)</th>\n",
       "      <th>Quantity (g)</th>\n",
       "      <th>Water (g)</th>\n",
       "      <th>Energy (kcal)</th>\n",
       "      <th>Protein (g)</th>\n",
       "      <th>Total lipid (fat) (g)</th>\n",
       "      <th>Carbohydrate, by difference (g)</th>\n",
       "      <th>...</th>\n",
       "      <th>Vitamin E (alpha-tocopherol) (mg)</th>\n",
       "      <th>Vitamin D (D2 + D3) (µg)</th>\n",
       "      <th>Vitamin D (IU)</th>\n",
       "      <th>Vitamin K (phylloquinone) (µg)</th>\n",
       "      <th>Fatty acids, total saturated (g)</th>\n",
       "      <th>Fatty acids, total monounsaturated (g)</th>\n",
       "      <th>Fatty acids, total polyunsaturated (g)</th>\n",
       "      <th>Fatty acids, total trans (g)</th>\n",
       "      <th>Cholesterol (mg)</th>\n",
       "      <th>Caffeine (mg)</th>\n",
       "    </tr>\n",
       "  </thead>\n",
       "  <tbody>\n",
       "    <tr>\n",
       "      <th>0</th>\n",
       "      <td>Beans, snap, green, raw</td>\n",
       "      <td>Vegetables and Vegetable Products</td>\n",
       "      <td>11052</td>\n",
       "      <td>2.49</td>\n",
       "      <td>454</td>\n",
       "      <td>90.32</td>\n",
       "      <td>31</td>\n",
       "      <td>1.83</td>\n",
       "      <td>0.22</td>\n",
       "      <td>6.97</td>\n",
       "      <td>...</td>\n",
       "      <td>0.41</td>\n",
       "      <td>0</td>\n",
       "      <td>0</td>\n",
       "      <td>43</td>\n",
       "      <td>0.05</td>\n",
       "      <td>0.01</td>\n",
       "      <td>0.113</td>\n",
       "      <td>0</td>\n",
       "      <td>0</td>\n",
       "      <td>0</td>\n",
       "    </tr>\n",
       "    <tr>\n",
       "      <th>1</th>\n",
       "      <td>Peas, green, raw</td>\n",
       "      <td>Vegetables and Vegetable Products</td>\n",
       "      <td>11304</td>\n",
       "      <td>3.29</td>\n",
       "      <td>454</td>\n",
       "      <td>78.86</td>\n",
       "      <td>81</td>\n",
       "      <td>5.42</td>\n",
       "      <td>0.4</td>\n",
       "      <td>14.45</td>\n",
       "      <td>...</td>\n",
       "      <td>0.13</td>\n",
       "      <td>0</td>\n",
       "      <td>0</td>\n",
       "      <td>24.8</td>\n",
       "      <td>0.071</td>\n",
       "      <td>0.035</td>\n",
       "      <td>0.187</td>\n",
       "      <td>0</td>\n",
       "      <td>0</td>\n",
       "      <td>0</td>\n",
       "    </tr>\n",
       "    <tr>\n",
       "      <th>2</th>\n",
       "      <td>Peppers, sweet, green, raw</td>\n",
       "      <td>Vegetables and Vegetable Products</td>\n",
       "      <td>11333</td>\n",
       "      <td>0.99</td>\n",
       "      <td>169.8</td>\n",
       "      <td>93.89</td>\n",
       "      <td>20</td>\n",
       "      <td>0.86</td>\n",
       "      <td>0.17</td>\n",
       "      <td>4.64</td>\n",
       "      <td>...</td>\n",
       "      <td>0.37</td>\n",
       "      <td>0</td>\n",
       "      <td>0</td>\n",
       "      <td>7.4</td>\n",
       "      <td>0.058</td>\n",
       "      <td>0.008</td>\n",
       "      <td>0.062</td>\n",
       "      <td>0</td>\n",
       "      <td>0</td>\n",
       "      <td>0</td>\n",
       "    </tr>\n",
       "    <tr>\n",
       "      <th>3</th>\n",
       "      <td>Peppers, sweet, red, raw</td>\n",
       "      <td>Vegetables and Vegetable Products</td>\n",
       "      <td>11821</td>\n",
       "      <td>0.99</td>\n",
       "      <td>169.8</td>\n",
       "      <td>92.21</td>\n",
       "      <td>31</td>\n",
       "      <td>0.99</td>\n",
       "      <td>0.3</td>\n",
       "      <td>6.03</td>\n",
       "      <td>...</td>\n",
       "      <td>1.58</td>\n",
       "      <td>0</td>\n",
       "      <td>0</td>\n",
       "      <td>4.9</td>\n",
       "      <td>0.027</td>\n",
       "      <td>0.003</td>\n",
       "      <td>0.07</td>\n",
       "      <td>0</td>\n",
       "      <td>0</td>\n",
       "      <td>0</td>\n",
       "    </tr>\n",
       "    <tr>\n",
       "      <th>4</th>\n",
       "      <td>Peppers, sweet, yellow, raw</td>\n",
       "      <td>Vegetables and Vegetable Products</td>\n",
       "      <td>11951</td>\n",
       "      <td>0.99</td>\n",
       "      <td>169.8</td>\n",
       "      <td>92.02</td>\n",
       "      <td>27</td>\n",
       "      <td>1</td>\n",
       "      <td>0.21</td>\n",
       "      <td>6.32</td>\n",
       "      <td>...</td>\n",
       "      <td>NaN</td>\n",
       "      <td>0</td>\n",
       "      <td>0</td>\n",
       "      <td>NaN</td>\n",
       "      <td>0.031</td>\n",
       "      <td>NaN</td>\n",
       "      <td>NaN</td>\n",
       "      <td>0</td>\n",
       "      <td>0</td>\n",
       "      <td>NaN</td>\n",
       "    </tr>\n",
       "  </tbody>\n",
       "</table>\n",
       "<p>5 rows × 38 columns</p>\n",
       "</div>"
      ],
      "text/plain": [
       "                          name                              group  ndbno  \\\n",
       "0      Beans, snap, green, raw  Vegetables and Vegetable Products  11052   \n",
       "1             Peas, green, raw  Vegetables and Vegetable Products  11304   \n",
       "2   Peppers, sweet, green, raw  Vegetables and Vegetable Products  11333   \n",
       "3     Peppers, sweet, red, raw  Vegetables and Vegetable Products  11821   \n",
       "4  Peppers, sweet, yellow, raw  Vegetables and Vegetable Products  11951   \n",
       "\n",
       "  Price ($) Quantity (g) Water (g) Energy (kcal) Protein (g)  \\\n",
       "0      2.49          454     90.32            31        1.83   \n",
       "1      3.29          454     78.86            81        5.42   \n",
       "2      0.99        169.8     93.89            20        0.86   \n",
       "3      0.99        169.8     92.21            31        0.99   \n",
       "4      0.99        169.8     92.02            27           1   \n",
       "\n",
       "  Total lipid (fat) (g) Carbohydrate, by difference (g)      ...       \\\n",
       "0                  0.22                            6.97      ...        \n",
       "1                   0.4                           14.45      ...        \n",
       "2                  0.17                            4.64      ...        \n",
       "3                   0.3                            6.03      ...        \n",
       "4                  0.21                            6.32      ...        \n",
       "\n",
       "  Vitamin E (alpha-tocopherol) (mg) Vitamin D (D2 + D3) (µg) Vitamin D (IU)  \\\n",
       "0                              0.41                        0              0   \n",
       "1                              0.13                        0              0   \n",
       "2                              0.37                        0              0   \n",
       "3                              1.58                        0              0   \n",
       "4                               NaN                        0              0   \n",
       "\n",
       "  Vitamin K (phylloquinone) (µg) Fatty acids, total saturated (g)  \\\n",
       "0                             43                             0.05   \n",
       "1                           24.8                            0.071   \n",
       "2                            7.4                            0.058   \n",
       "3                            4.9                            0.027   \n",
       "4                            NaN                            0.031   \n",
       "\n",
       "  Fatty acids, total monounsaturated (g)  \\\n",
       "0                                   0.01   \n",
       "1                                  0.035   \n",
       "2                                  0.008   \n",
       "3                                  0.003   \n",
       "4                                    NaN   \n",
       "\n",
       "  Fatty acids, total polyunsaturated (g) Fatty acids, total trans (g)  \\\n",
       "0                                  0.113                            0   \n",
       "1                                  0.187                            0   \n",
       "2                                  0.062                            0   \n",
       "3                                   0.07                            0   \n",
       "4                                    NaN                            0   \n",
       "\n",
       "  Cholesterol (mg) Caffeine (mg)  \n",
       "0                0             0  \n",
       "1                0             0  \n",
       "2                0             0  \n",
       "3                0             0  \n",
       "4                0           NaN  \n",
       "\n",
       "[5 rows x 38 columns]"
      ]
     },
     "execution_count": 35,
     "metadata": {},
     "output_type": "execute_result"
    }
   ],
   "source": [
    "df_nut.head()"
   ]
  },
  {
   "cell_type": "markdown",
   "metadata": {},
   "source": [
    "**Now that we have nutrient and price data, let's look at the price per unit nutrient (we'll look at macro-nutirents first) to get a sense of the 'price efficiency' of foods**"
   ]
  },
  {
   "cell_type": "code",
   "execution_count": 36,
   "metadata": {},
   "outputs": [],
   "source": [
    "df_nut['Price ($)/100g'] = df_nut['Price ($)']/df_nut['Quantity (g)']*100"
   ]
  },
  {
   "cell_type": "code",
   "execution_count": 37,
   "metadata": {},
   "outputs": [],
   "source": [
    "df_nut['Protein (g)/$'] = df_nut['Protein (g)']/df_nut['Price ($)/100g']\n",
    "df_nut['Fat (g)/$'] = df_nut['Total lipid (fat) (g)']/df_nut['Price ($)/100g']\n",
    "df_nut['Carbs (g)/$'] = df_nut['Carbohydrate, by difference (g)']/df_nut['Price ($)/100g']\n",
    "df_nut['Energy (kcal)/$'] = df_nut['Energy (kcal)']/df_nut['Price ($)/100g']"
   ]
  },
  {
   "cell_type": "code",
   "execution_count": 38,
   "metadata": {},
   "outputs": [
    {
     "data": {
      "text/plain": [
       "<matplotlib.axes._subplots.AxesSubplot at 0x1142b3be0>"
      ]
     },
     "execution_count": 38,
     "metadata": {},
     "output_type": "execute_result"
    },
    {
     "data": {
      "image/png": "[encoded data removed]",
      "text/plain": [
       "<matplotlib.figure.Figure at 0x1142b36d8>"
      ]
     },
     "metadata": {},
     "output_type": "display_data"
    }
   ],
   "source": [
    "plt.figure(figsize=(10,6))\n",
    "plt.title(\"Price per 100g of food\")\n",
    "plt.xticks(rotation=90)\n",
    "sns.boxplot(data=df_nut, x='group', y='Price ($)/100g')"
   ]
  },
  {
   "cell_type": "code",
   "execution_count": 39,
   "metadata": {},
   "outputs": [
    {
     "data": {
      "text/plain": [
       "<matplotlib.axes._subplots.AxesSubplot at 0x116b9a6a0>"
      ]
     },
     "execution_count": 39,
     "metadata": {},
     "output_type": "execute_result"
    },
    {
     "data": {
      "image/png": "[encoded data removed]",
      "text/plain": [
       "<matplotlib.figure.Figure at 0x116b9a630>"
      ]
     },
     "metadata": {},
     "output_type": "display_data"
    }
   ],
   "source": [
    "plt.figure(figsize=(10,6))\n",
    "plt.title(\"Protein content\")\n",
    "plt.xticks(rotation=90)\n",
    "sns.boxplot(x=list(df_nut['group']), y=list(df_nut['Protein (g)']))"
   ]
  },
  {
   "cell_type": "code",
   "execution_count": 40,
   "metadata": {},
   "outputs": [
    {
     "data": {
      "text/plain": [
       "<matplotlib.axes._subplots.AxesSubplot at 0x116e38f60>"
      ]
     },
     "execution_count": 40,
     "metadata": {},
     "output_type": "execute_result"
    },
    {
     "data": {
      "image/png": "[encoded data removed]",
      "text/plain": [
       "<matplotlib.figure.Figure at 0x116e432e8>"
      ]
     },
     "metadata": {},
     "output_type": "display_data"
    }
   ],
   "source": [
    "plt.figure(figsize=(10,6))\n",
    "plt.title(\"Protein efficiency\")\n",
    "plt.xticks(rotation=90)\n",
    "sns.boxplot(data=df_nut, x='group', y='Protein (g)/$')"
   ]
  },
  {
   "cell_type": "code",
   "execution_count": 41,
   "metadata": {},
   "outputs": [
    {
     "data": {
      "text/plain": [
       "<matplotlib.axes._subplots.AxesSubplot at 0x1170d64a8>"
      ]
     },
     "execution_count": 41,
     "metadata": {},
     "output_type": "execute_result"
    },
    {
     "data": {
      "image/png": "[encoded data removed]",
      "text/plain": [
       "<matplotlib.figure.Figure at 0x1170d6898>"
      ]
     },
     "metadata": {},
     "output_type": "display_data"
    }
   ],
   "source": [
    "plt.figure(figsize=(10,6))\n",
    "plt.title(\"Carb content\")\n",
    "plt.xticks(rotation=90)\n",
    "sns.boxplot(x=list(df_nut['group']), y=list(df_nut['Carbohydrate, by difference (g)']))"
   ]
  },
  {
   "cell_type": "code",
   "execution_count": 42,
   "metadata": {},
   "outputs": [
    {
     "data": {
      "text/plain": [
       "<matplotlib.axes._subplots.AxesSubplot at 0x117387c18>"
      ]
     },
     "execution_count": 42,
     "metadata": {},
     "output_type": "execute_result"
    },
    {
     "data": {
      "image/png": "[encoded data removed]",
      "text/plain": [
       "<matplotlib.figure.Figure at 0x117387f28>"
      ]
     },
     "metadata": {},
     "output_type": "display_data"
    }
   ],
   "source": [
    "plt.figure(figsize=(10,6))\n",
    "plt.title(\"Carbs efficiency\")\n",
    "plt.xticks(rotation=90)\n",
    "sns.boxplot(data=df_nut, x='group', y='Carbs (g)/$')"
   ]
  },
  {
   "cell_type": "code",
   "execution_count": 43,
   "metadata": {},
   "outputs": [
    {
     "data": {
      "text/plain": [
       "<matplotlib.axes._subplots.AxesSubplot at 0x117622470>"
      ]
     },
     "execution_count": 43,
     "metadata": {},
     "output_type": "execute_result"
    },
    {
     "data": {
      "image/png": "[encoded data removed]",
      "text/plain": [
       "<matplotlib.figure.Figure at 0x1176227f0>"
      ]
     },
     "metadata": {},
     "output_type": "display_data"
    }
   ],
   "source": [
    "plt.figure(figsize=(10,6))\n",
    "plt.title(\"Fat content\")\n",
    "plt.xticks(rotation=90)\n",
    "sns.boxplot(x=list(df_nut['group']), y=list(df_nut['Total lipid (fat) (g)']))"
   ]
  },
  {
   "cell_type": "code",
   "execution_count": 44,
   "metadata": {},
   "outputs": [
    {
     "data": {
      "text/plain": [
       "<matplotlib.axes._subplots.AxesSubplot at 0x1178cfbe0>"
      ]
     },
     "execution_count": 44,
     "metadata": {},
     "output_type": "execute_result"
    },
    {
     "data": {
      "image/png": "[encoded data removed]",
      "text/plain": [
       "<matplotlib.figure.Figure at 0x1178cfef0>"
      ]
     },
     "metadata": {},
     "output_type": "display_data"
    }
   ],
   "source": [
    "plt.figure(figsize=(10,6))\n",
    "plt.title(\"Fat efficiency\")\n",
    "plt.xticks(rotation=90)\n",
    "sns.boxplot(data=df_nut, x='group', y='Fat (g)/$')"
   ]
  },
  {
   "cell_type": "code",
   "execution_count": 45,
   "metadata": {},
   "outputs": [
    {
     "data": {
      "text/plain": [
       "<matplotlib.axes._subplots.AxesSubplot at 0x117b6f2b0>"
      ]
     },
     "execution_count": 45,
     "metadata": {},
     "output_type": "execute_result"
    },
    {
     "data": {
      "image/png": "[encoded data removed]",
      "text/plain": [
       "<matplotlib.figure.Figure at 0x117b6f128>"
      ]
     },
     "metadata": {},
     "output_type": "display_data"
    }
   ],
   "source": [
    "plt.figure(figsize=(10,6))\n",
    "plt.title(\"Energy content\")\n",
    "plt.xticks(rotation=90)\n",
    "sns.boxplot(x=list(df_nut['group']), y=list(df_nut['Energy (kcal)']))"
   ]
  },
  {
   "cell_type": "code",
   "execution_count": 46,
   "metadata": {},
   "outputs": [
    {
     "data": {
      "text/plain": [
       "<matplotlib.axes._subplots.AxesSubplot at 0x117e23588>"
      ]
     },
     "execution_count": 46,
     "metadata": {},
     "output_type": "execute_result"
    },
    {
     "data": {
      "image/png": "[encoded data removed]",
      "text/plain": [
       "<matplotlib.figure.Figure at 0x117e235c0>"
      ]
     },
     "metadata": {},
     "output_type": "display_data"
    }
   ],
   "source": [
    "plt.figure(figsize=(10,6))\n",
    "plt.title(\"Energy efficiency\")\n",
    "plt.xticks(rotation=90)\n",
    "sns.boxplot(data=df_nut, x='group', y='Energy (kcal)/$')"
   ]
  },
  {
   "cell_type": "markdown",
   "metadata": {},
   "source": [
    "**So here's what come out from the data above (to fix):**   \n",
    "1. Price/100g wise, dairy is the cheapest, while nuts and seeds are more expensive (I'm ignoring beverages here since they are processed products - more on that later (no surprises, though I would have expected grains to be cheapest)\n",
    "2. While legumes and nuts have the highest protein/g (not surprising since both of them are 'dry' with very little water content), on protein price efficiency (i.e. g protein/dollar), due to the cheap price, it seems wheat flour wins, which is pretty counterintuitive! Apart from that, it is dairy, and legumes next, which is not surprising\n",
    "3. On carbs, no surprises. Grains are richest in carbs (this is an issue for me!) and cheap, so they have the highest price efficiency\n",
    "4. For fat, as expected, nuts and seeds have the highest fat content, but due to the high price, they more or less tie with dairy for fat efficiency\n",
    "5. On energy again, nuts and seeds have the highest energy per g, followed by legumes and grains. However, due to the cheap price of grains, they are highest on energy efficiency"
   ]
  },
  {
   "cell_type": "markdown",
   "metadata": {},
   "source": [
    "**One interesting thing to do would be to look at the relationship between energy, protein, carbs and fat. Namely, is there a correlation between these. Let's use scikit-learn's linear regression to check this.**"
   ]
  },
  {
   "cell_type": "code",
   "execution_count": 47,
   "metadata": {},
   "outputs": [],
   "source": [
    "from sklearn.linear_model import LinearRegression"
   ]
  },
  {
   "cell_type": "code",
   "execution_count": 48,
   "metadata": {},
   "outputs": [],
   "source": [
    "lm = LinearRegression()"
   ]
  },
  {
   "cell_type": "code",
   "execution_count": 49,
   "metadata": {},
   "outputs": [],
   "source": [
    "X = df_nut[['Protein (g)', 'Total lipid (fat) (g)', 'Carbohydrate, by difference (g)']]"
   ]
  },
  {
   "cell_type": "code",
   "execution_count": 50,
   "metadata": {},
   "outputs": [],
   "source": [
    "y = df_nut['Energy (kcal)']"
   ]
  },
  {
   "cell_type": "code",
   "execution_count": 51,
   "metadata": {},
   "outputs": [
    {
     "name": "stderr",
     "output_type": "stream",
     "text": [
      "/Library/Frameworks/Python.framework/Versions/3.6/lib/python3.6/site-packages/scipy/linalg/basic.py:1018: RuntimeWarning: internal gelsd driver lwork query error, required iwork dimension not returned. This is likely the result of LAPACK bug 0038, fixed in LAPACK 3.2.2 (released July 21, 2010). Falling back to 'gelss' driver.\n",
      "  warnings.warn(mesg, RuntimeWarning)\n"
     ]
    },
    {
     "data": {
      "text/plain": [
       "LinearRegression(copy_X=True, fit_intercept=True, n_jobs=1, normalize=False)"
      ]
     },
     "execution_count": 51,
     "metadata": {},
     "output_type": "execute_result"
    }
   ],
   "source": [
    "lm.fit(X,y)"
   ]
  },
  {
   "cell_type": "code",
   "execution_count": 52,
   "metadata": {},
   "outputs": [
    {
     "data": {
      "text/plain": [
       "array([ 4.02607522,  8.22089958,  3.96215688])"
      ]
     },
     "execution_count": 52,
     "metadata": {},
     "output_type": "execute_result"
    }
   ],
   "source": [
    "lm.coef_"
   ]
  },
  {
   "cell_type": "code",
   "execution_count": 53,
   "metadata": {},
   "outputs": [
    {
     "data": {
      "text/plain": [
       "0.99939715081065728"
      ]
     },
     "execution_count": 53,
     "metadata": {},
     "output_type": "execute_result"
    }
   ],
   "source": [
    "lm.score(X,y)"
   ]
  },
  {
   "cell_type": "markdown",
   "metadata": {},
   "source": [
    "**Pretty clear that the values given for energy are derived from amount of protein, fat and carbs in the food in the following way:  \n",
    "1g Protein -> 4.0 kcal,  \n",
    "1g Fat -> 8.2 kcal,  \n",
    "1g Carbs -> 4.0 kcal**"
   ]
  },
  {
   "cell_type": "markdown",
   "metadata": {},
   "source": [
    "**Now let's move to our goal of finding the cheapest basket of foods to eat that takes care of our nutrition requirements.**  \n",
    "For this, I will use the PuLP package for linear optimization"
   ]
  },
  {
   "cell_type": "code",
   "execution_count": 54,
   "metadata": {},
   "outputs": [],
   "source": [
    "df_nut.fillna(value=0, inplace=True)\n",
    "# required so there are no NaN's in the data and the optimization doesn't throw an error"
   ]
  },
  {
   "cell_type": "code",
   "execution_count": 55,
   "metadata": {},
   "outputs": [],
   "source": [
    "from pulp import *"
   ]
  },
  {
   "cell_type": "code",
   "execution_count": 56,
   "metadata": {},
   "outputs": [],
   "source": [
    "food = list(df_nut['name'])"
   ]
  },
  {
   "cell_type": "code",
   "execution_count": 57,
   "metadata": {},
   "outputs": [],
   "source": [
    "price = df_nut[['name','Price ($)/100g']].set_index('name').to_dict()['Price ($)/100g']"
   ]
  },
  {
   "cell_type": "markdown",
   "metadata": {},
   "source": [
    "**First let's consider only the macronutrients  \n",
    "I have created a csv file with min and max for all the nutrients - micro and macro - (based on recommended daily allowances, and some modifications for what I want (e.g. higher protein)) and used that for adding the constraints through code efficiently**"
   ]
  },
  {
   "cell_type": "code",
   "execution_count": 58,
   "metadata": {},
   "outputs": [],
   "source": [
    "nutrient=[]\n",
    "for col in list(df_nut.columns[6:10]):  # for picking only the macronutrients\n",
    "    nutrient.append(df_nut[['name', col]].set_index('name').to_dict())"
   ]
  },
  {
   "cell_type": "code",
   "execution_count": 60,
   "metadata": {},
   "outputs": [],
   "source": [
    "nutrient_limits = pd.read_csv('nutrients.csv')"
   ]
  },
  {
   "cell_type": "code",
   "execution_count": 61,
   "metadata": {},
   "outputs": [
    {
     "data": {
      "text/html": [
       "<div>\n",
       "<style>\n",
       "    .dataframe thead tr:only-child th {\n",
       "        text-align: right;\n",
       "    }\n",
       "\n",
       "    .dataframe thead th {\n",
       "        text-align: left;\n",
       "    }\n",
       "\n",
       "    .dataframe tbody tr th {\n",
       "        vertical-align: top;\n",
       "    }\n",
       "</style>\n",
       "<table border=\"1\" class=\"dataframe\">\n",
       "  <thead>\n",
       "    <tr style=\"text-align: right;\">\n",
       "      <th></th>\n",
       "      <th>Min</th>\n",
       "      <th>Max</th>\n",
       "    </tr>\n",
       "    <tr>\n",
       "      <th>Nutrient</th>\n",
       "      <th></th>\n",
       "      <th></th>\n",
       "    </tr>\n",
       "  </thead>\n",
       "  <tbody>\n",
       "    <tr>\n",
       "      <th>Energy (kcal)</th>\n",
       "      <td>1800.0</td>\n",
       "      <td>2200</td>\n",
       "    </tr>\n",
       "    <tr>\n",
       "      <th>Protein (g)</th>\n",
       "      <td>160.0</td>\n",
       "      <td>180</td>\n",
       "    </tr>\n",
       "    <tr>\n",
       "      <th>Total lipid (fat) (g)</th>\n",
       "      <td>90.0</td>\n",
       "      <td>100</td>\n",
       "    </tr>\n",
       "    <tr>\n",
       "      <th>Carbohydrate, by difference (g)</th>\n",
       "      <td>200.0</td>\n",
       "      <td>300</td>\n",
       "    </tr>\n",
       "    <tr>\n",
       "      <th>Fiber, total dietary (g)</th>\n",
       "      <td>30.0</td>\n",
       "      <td>100000</td>\n",
       "    </tr>\n",
       "  </tbody>\n",
       "</table>\n",
       "</div>"
      ],
      "text/plain": [
       "                                    Min     Max\n",
       "Nutrient                                       \n",
       "Energy (kcal)                    1800.0    2200\n",
       "Protein (g)                       160.0     180\n",
       "Total lipid (fat) (g)              90.0     100\n",
       "Carbohydrate, by difference (g)   200.0     300\n",
       "Fiber, total dietary (g)           30.0  100000"
      ]
     },
     "execution_count": 61,
     "metadata": {},
     "output_type": "execute_result"
    }
   ],
   "source": [
    "nutrient_limits.set_index('Nutrient', inplace=True)\n",
    "nutrient_limits.head()"
   ]
  },
  {
   "cell_type": "code",
   "execution_count": 62,
   "metadata": {},
   "outputs": [],
   "source": [
    "prob = LpProblem(\"Nutrition Cost\", LpMinimize)  # Set up a linear programming problem"
   ]
  },
  {
   "cell_type": "code",
   "execution_count": 63,
   "metadata": {},
   "outputs": [],
   "source": [
    "food_vars = LpVariable.dicts(\"Food\",food,0)"
   ]
  },
  {
   "cell_type": "code",
   "execution_count": 64,
   "metadata": {},
   "outputs": [],
   "source": [
    "prob += lpSum([price[i]*food_vars[i] for i in food])  # what to optimize"
   ]
  },
  {
   "cell_type": "code",
   "execution_count": 65,
   "metadata": {},
   "outputs": [],
   "source": [
    "for item in nutrient:\n",
    "    nutr = list(item.keys())[0]\n",
    "    min = nutrient_limits.loc[nutr,'Min']\n",
    "    max = nutrient_limits.loc[nutr,'Max']\n",
    "    prob += lpSum([item[nutr][i] * food_vars[i] for i in food]) >= min\n",
    "    prob += lpSum([item[nutr][i] * food_vars[i] for i in food]) <= max"
   ]
  },
  {
   "cell_type": "code",
   "execution_count": 66,
   "metadata": {},
   "outputs": [],
   "source": [
    "prob.writeLP('foodmodel.lp')"
   ]
  },
  {
   "cell_type": "code",
   "execution_count": 67,
   "metadata": {},
   "outputs": [
    {
     "data": {
      "text/plain": [
       "1"
      ]
     },
     "execution_count": 67,
     "metadata": {},
     "output_type": "execute_result"
    }
   ],
   "source": [
    "prob.solve()"
   ]
  },
  {
   "cell_type": "code",
   "execution_count": 68,
   "metadata": {},
   "outputs": [
    {
     "name": "stdout",
     "output_type": "stream",
     "text": [
      "Status: Optimal\n"
     ]
    }
   ],
   "source": [
    "print(\"Status:\", LpStatus[prob.status])"
   ]
  },
  {
   "cell_type": "code",
   "execution_count": 69,
   "metadata": {},
   "outputs": [
    {
     "name": "stdout",
     "output_type": "stream",
     "text": [
      "Food_Cheese,_cottage,_creamed,_large_or_small_curd = 9.1768918\n",
      "Food_Milk,_whole,_3.25%_milkfat,_with_added_vitamin_D = 7.1401236\n",
      "Food_Peanuts,_spanish,_raw = 0.46186638\n",
      "Food_Wheat_flour,_whole_grain = 1.7701566\n"
     ]
    }
   ],
   "source": [
    "for v in prob.variables():\n",
    "    if v.varValue != None:\n",
    "        if v.varValue > 0:\n",
    "            print(v.name, \"=\", v.varValue)"
   ]
  },
  {
   "cell_type": "markdown",
   "metadata": {},
   "source": [
    "**This is interesting. So the optimization is telling me that I should eat lots of dairy (cheese (918 g) and milk (714 g)), quite some wheat (177 g), and some peanuts (46 g) to cheaply get all my macronutrients in the cheapest way!**  "
   ]
  },
  {
   "cell_type": "markdown",
   "metadata": {},
   "source": [
    "**However that doesn't sound like a very balanced diet to me, so let's add some more constraints around the micronutrients and other things**"
   ]
  },
  {
   "cell_type": "code",
   "execution_count": 70,
   "metadata": {},
   "outputs": [],
   "source": [
    "micro_nutrient=[]\n",
    "for col in list(df_nut.columns[10:38]):\n",
    "    micro_nutrient.append(df_nut[['name', col]].set_index('name').to_dict())"
   ]
  },
  {
   "cell_type": "code",
   "execution_count": 71,
   "metadata": {},
   "outputs": [],
   "source": [
    "for item in micro_nutrient:\n",
    "    nutr = list(item.keys())[0]\n",
    "    min = nutrient_limits.loc[nutr,'Min']\n",
    "    max = nutrient_limits.loc[nutr,'Max']\n",
    "    prob += lpSum([item[nutr][i] * food_vars[i] for i in food]) >= min\n",
    "    prob += lpSum([item[nutr][i] * food_vars[i] for i in food]) <= max"
   ]
  },
  {
   "cell_type": "code",
   "execution_count": 72,
   "metadata": {},
   "outputs": [],
   "source": [
    "prob.writeLP('foodmodel.lp')"
   ]
  },
  {
   "cell_type": "code",
   "execution_count": 73,
   "metadata": {},
   "outputs": [
    {
     "data": {
      "text/plain": [
       "1"
      ]
     },
     "execution_count": 73,
     "metadata": {},
     "output_type": "execute_result"
    }
   ],
   "source": [
    "prob.solve()"
   ]
  },
  {
   "cell_type": "code",
   "execution_count": 74,
   "metadata": {},
   "outputs": [
    {
     "name": "stdout",
     "output_type": "stream",
     "text": [
      "Status: Optimal\n"
     ]
    }
   ],
   "source": [
    "print(\"Status:\", LpStatus[prob.status])"
   ]
  },
  {
   "cell_type": "code",
   "execution_count": 75,
   "metadata": {},
   "outputs": [
    {
     "name": "stdout",
     "output_type": "stream",
     "text": [
      "Food_Beverages,_Whey_protein_powder_isolate = 1.2099521\n",
      "Food_Broccoli,_raw = 0.51298586\n",
      "Food_Milk,_whole,_3.25%_milkfat,_with_added_vitamin_D = 11.538462\n",
      "Food_Mung_beans,_mature_seeds,_raw = 0.7681362\n",
      "Food_Peanuts,_spanish,_raw = 0.87414417\n",
      "Food_Seeds,_sunflower_seed_kernels,_dried = 0.097747467\n",
      "Food_Wheat_flour,_whole_grain = 0.65426345\n"
     ]
    }
   ],
   "source": [
    "for v in prob.variables():\n",
    "    if v.varValue != None:\n",
    "        if v.varValue > 0:\n",
    "            print(v.name, \"=\", v.varValue)"
   ]
  },
  {
   "cell_type": "markdown",
   "metadata": {},
   "source": [
    "**Ok, this seems to be a much more balanced diet, though I'm still surprised at the small amount of veggies that is suggested (only 51 g of broccoli). Given thw high levels of protein I've chosen (160-180g) while restricting calories, the mix shifts significantly towards whey protein (121 g or 4 scoops, I usually have 1 scoop a day) and milk (suggests drinking over 1 litre of milk/day), but also has a mix of several other foods: broccoli, mung beans (77 g), and a mix of nuts and seeds: peanuts (87 g), and a little bit of sunflower seeds. There is still some amount of wheat intake (65 g, which is about 2-3 slices of bread as per my estimate) suggested based on the restrictions.**"
   ]
  },
  {
   "cell_type": "code",
   "execution_count": 76,
   "metadata": {},
   "outputs": [
    {
     "name": "stdout",
     "output_type": "stream",
     "text": [
      "Total Cost =  5.623633464147014\n"
     ]
    }
   ],
   "source": [
    "print(\"Total Cost = \", value(prob.objective))"
   ]
  },
  {
   "cell_type": "markdown",
   "metadata": {},
   "source": [
    "**The cost of a more balanced diet is 5.6 dollars per day. So not so bad!**"
   ]
  }
 ],
 "metadata": {
  "kernelspec": {
   "display_name": "Python 3",
   "language": "python",
   "name": "python3"
  },
  "language_info": {
   "codemirror_mode": {
    "name": "ipython",
    "version": 3
   },
   "file_extension": ".py",
   "mimetype": "text/x-python",
   "name": "python",
   "nbconvert_exporter": "python",
   "pygments_lexer": "ipython3",
   "version": "3.6.2"
  }
 },
 "nbformat": 4,
 "nbformat_minor": 2
}
